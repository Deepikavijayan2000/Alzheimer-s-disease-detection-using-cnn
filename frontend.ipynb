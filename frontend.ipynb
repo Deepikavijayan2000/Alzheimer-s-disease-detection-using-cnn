import tkinter as tk
from tkinter import CENTER, filedialog
import cv2  # Optional, for OpenCV image processing (if needed)
import numpy as np
import tensorflow as tf
from keras.preprocessing.image import load_img, img_to_array
import tensorflow_addons as tfa
from keras import Model


# Define class names (replace with your actual class names)
class_names = ["Mild Demented", "Moderate Demented", "Non Demented", "Very mild Demented"]


# Model loading (place your model loading logic here)
try:
  # Replace with your actual model loading path
  model = tf.keras.models.load_model('your directory path')#write your directory where you saved the model in PC
except ValueError as e:
  print(f"Error loading model: {e}")
  exit()


def preprocess_image(image_path):
  """Preprocesses an image for model prediction."""
  img = load_img(image_path, target_size=(176, 208))  # Adjust target size if needed
  img_array = img_to_array(img)

  # ... (Add your specific normalization steps here)

  return img_array.reshape((1, img_array.shape[0], img_array.shape[1], img_array.shape[2]))


def classify_image():
  """Opens a file dialog, preprocesses the image, predicts class, and updates the label."""
  global classification_result  # Access the label widget globally

  # Open file dialog
  image_path = filedialog.askopenfilename(title="Select Image", filetypes=[("Image Files", "*.jpg;*.png")])

  if image_path:
    try:
      # Preprocess the image
      preprocessed_image = preprocess_image(image_path)

      # Make prediction using your model
      predictions = model.predict(preprocessed_image)
      predicted_class = np.argmax(predictions[0])

      # Access class name based on predicted class index
      predicted_class_name = class_names[predicted_class]

      # Update the label with classification results
      classification_result.config(text=f"Predicted Class:  {predicted_class_name}")
      original_image = cv2.imread(image_path)
      cv2.imshow('Selected Image', original_image)  # Removed, will display within frame

      # Create a canvas to display the image within the Tkinter frame
      image_canvas = tk.Canvas(image_frame, width=original_image.shape[1], height=original_image.shape[0])
      image_canvas.pack()

      # Convert OpenCV image to a format suitable for Tkinter display
      image_bytes = cv2.imencode('.png', original_image)[1].tobytes()
      image_photo = tk.PhotoImage(width=original_image.shape[1], height=original_image.shape[0], data=image_bytes)

      # Display the image on the canvas
      image_canvas.create_image(0, 0, anchor='nw', image=image_photo)
    except Exception as e:
      print(f"Error during prediction: {e}")
      classification_result.config(text="Error: Could not classify image.")


# Create the main Tkinter window and widgets
window = tk.Tk()
window.title("Image Classification")
window.geometry("1500x1500")
# Create a bigger button
browse_button = tk.Button(window, text="Browse Image", anchor='center',command=classify_image, height=5, width=20)
browse_button.pack(pady=50)  # Adjust padding for better looks
image_frame = tk.Frame()
image_frame.pack()
classification_result = tk.Label(window, text="Classification Result: ")
classification_result.pack()

window.mainloop()
