{
  "cells": [
    {
      "cell_type": "code",
      "execution_count": null,
      "metadata": {
        "colab": {
          "base_uri": "https://localhost:8080/"
        },
        "id": "RaUshr1t6Zu8",
        "outputId": "900561e5-86f5-40cd-ed8e-5071d53552a7"
      },
      "outputs": [],
      "source": [
        "!pip install tensorflow\n",
        "!pip install keras\n",
        "!pip install imblearn\n",
        "!pip install matplotlib\n",
        "!pip install seaborn\n",
        "!pip install scikit-learn\n",
        "!pip install tensorflow-addons"
      ]
    },
    {
      "cell_type": "code",
      "execution_count": null,
      "metadata": {
        "id": "_-_F9l4rpHQ9"
      },
      "outputs": [],
      "source": [
        "import numpy as np\n",
        "import random\n",
        "import seaborn as sns\n",
        "import matplotlib.pyplot as plt\n",
        "from tensorflow.keras.preprocessing.image import ImageDataGenerator\n",
        "import tensorflow as tf\n",
        "from tensorflow.keras.layers import (\n",
        "    Input,\n",
        "    Flatten,\n",
        "    AveragePooling2D,\n",
        "    Conv2D,\n",
        "    Dense,\n",
        "    Dropout,\n",
        "    ReLU,\n",
        "    Softmax,\n",
        "    ELU,\n",
        ")\n",
        "from sklearn.model_selection import train_test_split\n",
        "from tensorflow.keras.optimizers import SGD\n",
        "from sklearn.metrics import (\n",
        "    classification_report,\n",
        "    confusion_matrix,\n",
        "    roc_curve,\n",
        "    auc,\n",
        ")\n",
        "from itertools import cycle\n",
        "\n",
        "# Optional imports for specific functionalities\n",
        "from tensorflow.keras.callbacks import ReduceLROnPlateau, EarlyStopping  # Callback\n",
        "from imblearn.combine import SMOTETomek"
      ]
    },
    {
      "cell_type": "code",
      "execution_count": null,
      "metadata": {
        "colab": {
          "base_uri": "https://localhost:8080/"
        },
        "id": "vhRb2O8X98rO",
        "outputId": "ab583659-6787-4e15-a866-d120dfd675de"
      },
      "outputs": [],
      "source": [
        "from google.colab import drive\n",
        "drive.mount('/content/drive')"
      ]
    },
    {
      "cell_type": "code",
      "execution_count": null,
      "metadata": {
        "id": "pyGBg9h3-dKJ"
      },
      "outputs": [],
      "source": [
        "WORKING_DIRECTORY = \"/content/drive/My Drive/project/input/\"#directory where you have the dataset\n",
        "CLASSES = ['Mild-Demented',\n",
        " 'Moderate-Demented',\n",
        " 'Non-Demented',\n",
        " 'VeryMild-Demented']\n"
      ]
    },
    {
      "cell_type": "code",
      "execution_count": null,
      "metadata": {
        "colab": {
          "base_uri": "https://localhost:8080/"
        },
        "id": "nAh6S1ao_L7s",
        "outputId": "50e1700b-bf58-4acb-859c-6fb6cd8f70e4"
      },
      "outputs": [],
      "source": [
        "X, y = [], []\n",
        "from tensorflow.keras.preprocessing.image import ImageDataGenerator\n",
        "datagen = ImageDataGenerator(rescale=1.0/255.0)\n",
        "train_dataset = datagen.flow_from_directory(WORKING_DIRECTORY, target_size=(176, 208),batch_size=39400, shuffle=True)\n",
        "X, y = train_dataset.next()"
      ]
    },
    {
      "cell_type": "code",
      "execution_count": null,
      "metadata": {
        "colab": {
          "base_uri": "https://localhost:8080/"
        },
        "id": "LESYYQVo_uz7",
        "outputId": "22afee05-d810-4a60-c9d7-7ae8b4c9edac"
      },
      "outputs": [],
      "source": [
        "samples_before = len(X)\n",
        "print(\"Images shape :\\t\", X.shape)\n",
        "print(\"Labels shape :\\t\", y.shape)\n"
      ]
    },
    {
      "cell_type": "code",
      "execution_count": null,
      "metadata": {
        "colab": {
          "base_uri": "https://localhost:8080/"
        },
        "id": "QsAw6qYF_2pt",
        "outputId": "2debcd0a-4f05-4251-c0d1-5bcbef3fba08"
      },
      "outputs": [],
      "source": [
        "from collections import Counter\n",
        "print(\"Number of samples in each class:\\t\", sorted(Counter(np.argmax(y, axis=1)).items()))\n",
        "print(\"Classes Names according to index:\\t\", train_dataset.class_indices)"
      ]
    },
    {
      "cell_type": "code",
      "execution_count": null,
      "metadata": {
        "colab": {
          "base_uri": "https://localhost:8080/",
          "height": 669
        },
        "id": "LmrLHLpy_4Vm",
        "outputId": "1c92b356-1977-491b-87bc-8ee4d01a59b1"
      },
      "outputs": [],
      "source": [
        "fig = plt.figure(figsize=(10,8))\n",
        "rows = 4\n",
        "columns = 4\n",
        "for i in range(rows * columns):\n",
        " fig.add_subplot(rows, columns, i+1)\n",
        " num = random.randint(0, len(X)-1 )\n",
        " plt.imshow(X[num])\n",
        " plt.axis('off')\n",
        " plt.title(CLASSES[(np.argmax(y[num]))], fontsize=8)\n",
        "plt.axis('off')\n",
        "plt.show()\n"
      ]
    },
    {
      "cell_type": "code",
      "execution_count": null,
      "metadata": {
        "colab": {
          "base_uri": "https://localhost:8080/"
        },
        "id": "41BQYrtH_4IO",
        "outputId": "8df6f51b-385b-4dd7-d08b-aecc6d801c8c"
      },
      "outputs": [],
      "source": [
        "X = X.reshape(-1, 176 * 208 * 3)\n",
        "\n",
        "from imblearn.combine import SMOTEENN  # Imbalanced class handling\n",
        "smoteenn = SMOTEENN(random_state=42)\n",
        "X, y  = smoteenn.fit_resample(X, y)\n",
        "##X, y = SMOTETomek().fit_resample(X, y)\n",
        "X = X.reshape(-1, 176, 208, 3)\n",
        "samples_after = len(X)\n",
        "print(X.shape)\n",
        "print(\"Number of samples after Smoteen :\\t\", sorted(Counter(np.argmax(y, axis=1)).items()))\n",
        "print(\"Images shape :\\t\", X.shape)\n",
        "print(\"Labels shape :\\t\", y.shape)\n",
        "\n",
        "\n",
        "\n"
      ]
    },
    {
      "cell_type": "code",
      "execution_count": null,
      "metadata": {
        "colab": {
          "base_uri": "https://localhost:8080/",
          "height": 669
        },
        "id": "dJcKXoa3APDc",
        "outputId": "006c672c-97a2-4028-81c9-3e4c70eb4abf"
      },
      "outputs": [],
      "source": [
        "fig = plt.figure(figsize=(10,8))\n",
        "rows = 4\n",
        "columns = 4\n",
        "for i in range(rows * columns):\n",
        " fig.add_subplot(rows, columns, i+1)\n",
        " num = random.randint(samples_before, samples_after - 1 )\n",
        " plt.imshow(X[num])\n",
        " plt.axis('off')\n",
        " plt.title(CLASSES[(np.argmax(y[num]))], fontsize=8)\n",
        "plt.axis('off')\n",
        "plt.show()\n"
      ]
    },
    {
      "cell_type": "code",
      "execution_count": null,
      "metadata": {
        "colab": {
          "base_uri": "https://localhost:8080/"
        },
        "id": "ZKOA_EB3BWEK",
        "outputId": "c67cd448-bd5b-4818-c2e6-bdddbf648050"
      },
      "outputs": [],
      "source": [
        "X_train, x_val, y_train, y_val = train_test_split(X,y, test_size = 0.2)\n",
        "X_train, x_test, y_train, y_test = train_test_split(X_train,y_train, test_size = 0.2)\n",
        "print(\"Number of samples after splitting into Training, validation & test set\\n\")\n",
        "print(\"Train \\t\",sorted(Counter(np.argmax(y_train, axis=1)).items()))\n",
        "print(\"Validation\\t\",sorted(Counter(np.argmax(y_val, axis=1)).items()))\n",
        "print(\"Test \\t\",sorted(Counter(np.argmax(y_test, axis=1)).items()))\n",
        "print(\"Images shape :\\t\", X.shape)\n",
        "print(\"Labels shape :\\t\", y.shape)\n"
      ]
    },
    {
      "cell_type": "code",
      "execution_count": null,
      "metadata": {
        "colab": {
          "base_uri": "https://localhost:8080/"
        },
        "id": "ocEuAshutLh5",
        "outputId": "1961079c-fed2-4684-df09-62df6949e319"
      },
      "outputs": [],
      "source": [
        "from keras.models import Sequential\n",
        "from tensorflow.keras.layers import MaxPooling2D\n",
        "from tensorflow.keras.initializers import glorot_uniform  # Use tensorflow.keras for compatibility\n",
        "\n",
        "init = glorot_uniform\n",
        "\n",
        "model = Sequential()\n",
        "\n",
        "model.add(Input(shape=(176, 208, 3)))\n",
        "\n",
        "# First convolutional block\n",
        "model.add(Conv2D(16, 3, kernel_initializer=init, activation='elu'))  # Smaller filter size (3x3) for local features\n",
        "model.add(AveragePooling2D(pool_size=(2, 2)))\n",
        "\n",
        "# Second convolutional block - Increased filter count, maintained filter size\n",
        "model.add(Conv2D(32, 3, kernel_initializer=init, activation='elu'))\n",
        "model.add(AveragePooling2D(pool_size=(2, 2)))\n",
        "\n",
        "# Third convolutional block - Introduce max pooling for additional downsampling\n",
        "model.add(Conv2D(64, 3, kernel_initializer=init, activation='elu'))\n",
        "model.add(MaxPooling2D(pool_size=(2, 2)))  # Experiment with MaxPooling for potential improvements\n",
        "\n",
        "# Fourth convolutional block - Experiment with different filter sizes\n",
        "model.add(Conv2D(128, 5, kernel_initializer=init, activation='elu'))  # Larger filter size for capturing broader features\n",
        "model.add(AveragePooling2D(pool_size=(2, 2)))\n",
        "\n",
        "# Dropout with a slightly higher rate for more aggressive regularization\n",
        "model.add(Dropout(0.05))\n",
        "\n",
        "model.add(Flatten())\n",
        "\n",
        "# Fully connected layer with increased size for more complex decision boundaries\n",
        "model.add(Dense(512, kernel_initializer=init, activation='elu'))\n",
        "model.add(Dropout(0.2))  # Higher dropout rate for fully connected layers\n",
        "\n",
        "model.add(Dense(4, kernel_initializer=init, activation='softmax'))\n",
        "\n",
        "model.summary()\n"
      ]
    },
    {
      "cell_type": "code",
      "execution_count": null,
      "metadata": {
        "id": "RcJaCVE-Bo2i"
      },
      "outputs": [],
      "source": [
        "import tensorflow_addons as tfa\n",
        "model.compile(\n",
        " optimizer=SGD(learning_rate=0.05),\n",
        " loss = tf.keras.losses.CategoricalCrossentropy(name='loss'),\n",
        " metrics=[\n",
        " tf.keras.metrics.CategoricalAccuracy(name='acc'),\n",
        " tf.keras.metrics.AUC(name='auc'),\n",
        " tfa.metrics.F1Score(num_classes=4),\n",
        " tf.metrics.Precision(name=\"precision\"),\n",
        " tf.metrics.Recall(name=\"recall\") ])"
      ]
    },
    {
      "cell_type": "code",
      "execution_count": null,
      "metadata": {
        "id": "dzFSZWh2BuTW"
      },
      "outputs": [],
      "source": [
        "rop_callback = ReduceLROnPlateau(monitor=\"val_loss\", patience=2)\n",
        "CALLBACKS = [rop_callback]"
      ]
    },
    {
      "cell_type": "code",
      "execution_count": null,
      "metadata": {
        "colab": {
          "base_uri": "https://localhost:8080/"
        },
        "id": "In2glI8fBzjf",
        "outputId": "7af2ca08-71e3-4f0a-c888-630600898761"
      },
      "outputs": [],
      "source": [
        "\n",
        "\n",
        "\n",
        "valAug = ImageDataGenerator()\n",
        "\n",
        "batch_size = 8\n",
        "\n",
        "\n",
        "history = model.fit(\n",
        "    valAug.flow(X_train, y_train, batch_size=batch_size, shuffle=True),\n",
        "    steps_per_epoch=len(X_train) // batch_size,\n",
        "    validation_data=valAug.flow(x_val, y_val, batch_size=batch_size, shuffle=True),\n",
        "    validation_steps=len(x_test) // batch_size,\n",
        "    epochs=40,\n",
        "    callbacks=CALLBACKS\n",
        ")"
      ]
    },
    {
      "cell_type": "code",
      "execution_count": null,
      "metadata": {
        "colab": {
          "base_uri": "https://localhost:8080/",
          "height": 472
        },
        "id": "R97BznE_khCZ",
        "outputId": "449ecdb9-7edf-411c-eae8-c48b39a85b02"
      },
      "outputs": [],
      "source": [
        "plt.plot(history.history['loss'], 'b')\n",
        "plt.plot(history.history['val_loss'], 'g')\n",
        "plt.title(\"Model Loss\")\n",
        "plt.xlabel(\"Epochs\")\n",
        "plt.ylabel(\"Loss\")\n",
        "plt.legend([\"train\", \"val\"])\n",
        "plt.show()"
      ]
    },
    {
      "cell_type": "code",
      "execution_count": null,
      "metadata": {
        "colab": {
          "base_uri": "https://localhost:8080/",
          "height": 472
        },
        "id": "ybMQhJmAkvtf",
        "outputId": "4e94d60f-ea18-4b4c-8328-804c85f6b7c9"
      },
      "outputs": [],
      "source": [
        "plt.plot(history.history['auc'], 'b')\n",
        "plt.plot(history.history['val_auc'], 'g')\n",
        "plt.title(\"Model AUC\")\n",
        "plt.xlabel(\"Epochs\")\n",
        "plt.ylabel(\"AUC\")\n",
        "plt.legend([\"train\", \"val\"])\n",
        "plt.show()\n",
        "\n",
        "\n"
      ]
    },
    {
      "cell_type": "code",
      "execution_count": null,
      "metadata": {
        "colab": {
          "base_uri": "https://localhost:8080/",
          "height": 472
        },
        "id": "-EEJ-uSRmR-T",
        "outputId": "76d47cf6-c1c2-4782-826f-4d8928a97037"
      },
      "outputs": [],
      "source": [
        "plt.plot(history.history['precision'], 'b')\n",
        "plt.plot(history.history['val_precision'], 'g')\n",
        "plt.title(\"Model Precision\")\n",
        "plt.xlabel(\"Epochs\")\n",
        "plt.ylabel(\"Precision\")\n",
        "plt.legend([\"train\", \"val\"])\n",
        "plt.show()"
      ]
    },
    {
      "cell_type": "code",
      "execution_count": null,
      "metadata": {
        "colab": {
          "base_uri": "https://localhost:8080/",
          "height": 472
        },
        "id": "6a15oGhWmTyd",
        "outputId": "d53e0697-9d66-4ea4-d50e-fdc1ad1b7c86"
      },
      "outputs": [],
      "source": [
        "plt.plot(history.history['recall'], 'b')\n",
        "plt.plot(history.history['val_recall'], 'g')\n",
        "plt.title(\"Model Recall\")\n",
        "plt.xlabel(\"Epochs\")\n",
        "plt.ylabel(\"Recall\")\n",
        "plt.legend([\"train\", \"val\"])\n",
        "plt.show()"
      ]
    },
    {
      "cell_type": "code",
      "execution_count": null,
      "metadata": {
        "colab": {
          "base_uri": "https://localhost:8080/",
          "height": 472
        },
        "id": "4NtCcAPdmToj",
        "outputId": "e8f6bb3e-acf6-45b1-b06d-2b00856e7ba2"
      },
      "outputs": [],
      "source": [
        "plt.plot(history.history['f1_score'])\n",
        "plt.plot(history.history['val_f1_score'])\n",
        "plt.title(\"Model F1-Score\")\n",
        "plt.xlabel(\"Epochs\")\n",
        "plt.ylabel(\"F1-Score\")\n",
        "plt.show()"
      ]
    },
    {
      "cell_type": "code",
      "execution_count": null,
      "metadata": {
        "colab": {
          "base_uri": "https://localhost:8080/"
        },
        "id": "ZQkDZgOfkzDi",
        "outputId": "066e7d2f-6d05-4a53-e198-0ce4a9d1b8a6"
      },
      "outputs": [],
      "source": [
        "pred_labels = model.predict(x_test, batch_size=32)\n",
        "\n",
        "def roundoff(arr):\n",
        "    arr[np.argwhere(arr != arr.max())] = 0\n",
        "    arr[np.argwhere(arr == arr.max())] = 1\n",
        "    return arr\n",
        "\n",
        "for labels in pred_labels:\n",
        "    labels = roundoff(labels)\n",
        "\n",
        "print(classification_report(y_test, pred_labels, target_names=CLASSES))"
      ]
    },
    {
      "cell_type": "code",
      "execution_count": null,
      "metadata": {
        "colab": {
          "base_uri": "https://localhost:8080/",
          "height": 648
        },
        "id": "L_bvYzF3k759",
        "outputId": "a5c43c34-2513-419a-ddda-9da8f6f31ee5"
      },
      "outputs": [],
      "source": [
        "pred_ls = np.argmax(pred_labels, axis=1)\n",
        "test_ls = np.argmax(y_test, axis=1)\n",
        "\n",
        "conf_arr = confusion_matrix(test_ls, pred_ls)\n",
        "\n",
        "plt.figure(figsize=(10, 8), dpi=80, facecolor='w', edgecolor='k')\n",
        "\n",
        "ax = sns.heatmap(conf_arr, cmap='Greens', annot=True, fmt='d', xticklabels= CLASSES, yticklabels=CLASSES)\n",
        "\n",
        "plt.title('Confusion Matrix of Model', fontweight='bold', fontsize=14.0)\n",
        "plt.xlabel('Predictions', fontweight='bold', fontsize=13)\n",
        "plt.ylabel('Ground Truth', fontweight='bold', fontsize=13)\n",
        "plt.tight_layout()\n",
        "plt.show(ax)"
      ]
    },
    {
      "cell_type": "code",
      "execution_count": null,
      "metadata": {
        "colab": {
          "base_uri": "https://localhost:8080/",
          "height": 472
        },
        "id": "HDEoQXF5Arpz",
        "outputId": "b533de4f-9862-4730-bf26-573a5cd698b6"
      },
      "outputs": [],
      "source": [
        "fpr = dict()\n",
        "tpr = dict()\n",
        "roc_auc = dict()\n",
        "for i in range(4):\n",
        "    fpr[i], tpr[i], _ = roc_curve(y_test[:, i], pred_labels[:, i])\n",
        "    roc_auc[i] = auc(fpr[i], tpr[i])\n",
        "\n",
        "# Compute micro-average ROC curve and ROC area\n",
        "fpr[\"micro\"], tpr[\"micro\"], _ = roc_curve(y_test.ravel(), pred_labels.ravel())\n",
        "roc_auc[\"micro\"] = auc(fpr[\"micro\"], tpr[\"micro\"])\n",
        "\n",
        "plt.figure()\n",
        "lw = 2\n",
        "plt.plot(\n",
        "    fpr[2],\n",
        "    tpr[2],\n",
        "    color=\"darkorange\",\n",
        "    lw=lw,\n",
        "    label=\"ROC curve (area = %0.4f)\" % roc_auc[2])\n",
        "\n",
        "plt.plot([0, 1], [0, 1], color=\"navy\", lw=lw, linestyle=\"--\")\n",
        "plt.xlim([0.0, 1.0])\n",
        "plt.ylim([0.0, 1.05])\n",
        "plt.xlabel(\"False Positive Rate\")\n",
        "plt.ylabel(\"True Positive Rate\")\n",
        "plt.title(\"Receiver operating characteristic \")\n",
        "plt.legend(loc=\"lower right\")\n",
        "plt.show()"
      ]
    },
    {
      "cell_type": "code",
      "execution_count": null,
      "metadata": {
        "colab": {
          "base_uri": "https://localhost:8080/",
          "height": 472
        },
        "id": "qDtbP4u6ArmY",
        "outputId": "92ca4908-4383-4a75-b807-b769187bf2df"
      },
      "outputs": [],
      "source": [
        "n_classes = 4\n",
        "# First aggregate all false positive rates\n",
        "all_fpr = np.unique(np.concatenate([fpr[i] for i in range(n_classes)]))\n",
        "\n",
        "# Then interpolate all ROC curves at this points\n",
        "mean_tpr = np.zeros_like(all_fpr)\n",
        "for i in range(n_classes):\n",
        "    mean_tpr += np.interp(all_fpr, fpr[i], tpr[i])\n",
        "\n",
        "# Finally average it and compute AUC\n",
        "mean_tpr /= n_classes\n",
        "\n",
        "fpr[\"macro\"] = all_fpr\n",
        "tpr[\"macro\"] = mean_tpr\n",
        "roc_auc[\"macro\"] = auc(fpr[\"macro\"], tpr[\"macro\"])\n",
        "\n",
        "# Plot all ROC curves\n",
        "plt.figure()\n",
        "plt.plot(\n",
        "    fpr[\"micro\"],\n",
        "    tpr[\"micro\"],\n",
        "    label=\"micro-average ROC curve (area = {0:0.4f})\".format(roc_auc[\"micro\"]),\n",
        "    color=\"deeppink\",\n",
        "    linestyle=\":\",\n",
        "    linewidth=4,\n",
        ")\n",
        "\n",
        "plt.plot(\n",
        "    fpr[\"macro\"],\n",
        "    tpr[\"macro\"],\n",
        "    label=\"macro-average ROC curve (area = {0:0.4f})\".format(roc_auc[\"macro\"]),\n",
        "    color=\"navy\",\n",
        "    linestyle=\":\",\n",
        "    linewidth=4,\n",
        ")\n",
        "\n",
        "for i in range(n_classes):\n",
        "    plt.plot(\n",
        "        fpr[i],\n",
        "        tpr[i],\n",
        "        lw=lw,\n",
        "        label=\"ROC curve of class {0} (area = {1:0.4f})\".format(i, roc_auc[i]),\n",
        "    )\n",
        "\n",
        "plt.plot([0, 1], [0, 1], \"k--\", lw=lw)\n",
        "plt.xlim([0.0, 1.0])\n",
        "plt.ylim([0.0, 1.05])\n",
        "plt.xlabel(\"False Positive Rate\")\n",
        "plt.ylabel(\"True Positive Rate\")\n",
        "plt.title(\"Some extension of Receiver operating characteristic to multiclass\")\n",
        "plt.legend(loc=\"lower right\")\n",
        "plt.show()"
      ]
    },
    {
      "cell_type": "code",
      "execution_count": null,
      "metadata": {
        "colab": {
          "base_uri": "https://localhost:8080/"
        },
        "id": "qGXihzHHxxjD",
        "outputId": "dea1e70b-be7d-40d3-f8a5-663542fde9ec"
      },
      "outputs": [],
      "source": [
        "from google.colab import drive\n",
        "drive.mount('/content/drive')\n",
        "\n",
        "# Replace with your desired directory and filename\n",
        "model_save_path = '/content/drive/My Drive/project/mypro.h5'\n",
        "\n",
        "model.save(model_save_path)  # Use absolute path for saving to Google Drive\n"
      ]
    }
  ],
  "metadata": {
    "accelerator": "GPU",
    "colab": {
      "gpuType": "T4",
      "provenance": []
    },
    "kernelspec": {
      "display_name": "Python 3",
      "name": "python3"
    },
    "language_info": {
      "name": "python"
    }
  },
  "nbformat": 4,
  "nbformat_minor": 0
}
